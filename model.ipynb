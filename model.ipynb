{
 "cells": [
  {
   "cell_type": "code",
   "execution_count": 3,
   "metadata": {
    "collapsed": true
   },
   "outputs": [
    {
     "ename": "ImportError",
     "evalue": "dlopen(/Users/muhammadafkar/Developer/python3.8-venv/lib/python3.8/site-packages/cv2/cv2.cpython-38-darwin.so, 2): Library not loaded: /opt/homebrew/opt/ffmpeg/lib/libavcodec.58.dylib\n  Referenced from: /Users/muhammadafkar/Developer/python3.8-venv/lib/python3.8/site-packages/cv2/cv2.cpython-38-darwin.so\n  Reason: image not found",
     "output_type": "error",
     "traceback": [
      "\u001B[0;31m---------------------------------------------------------------------------\u001B[0m",
      "\u001B[0;31mImportError\u001B[0m                               Traceback (most recent call last)",
      "\u001B[0;32m/var/folders/3g/kt069_m10g5crvkwkytkx4wr0000gn/T/ipykernel_1369/1234558487.py\u001B[0m in \u001B[0;36m<module>\u001B[0;34m\u001B[0m\n\u001B[1;32m      4\u001B[0m \u001B[0;34m\u001B[0m\u001B[0m\n\u001B[1;32m      5\u001B[0m \u001B[0;32mimport\u001B[0m \u001B[0mos\u001B[0m\u001B[0;34m\u001B[0m\u001B[0;34m\u001B[0m\u001B[0m\n\u001B[0;32m----> 6\u001B[0;31m \u001B[0;32mimport\u001B[0m \u001B[0mcv2\u001B[0m\u001B[0;34m\u001B[0m\u001B[0;34m\u001B[0m\u001B[0m\n\u001B[0m\u001B[1;32m      7\u001B[0m \u001B[0;34m\u001B[0m\u001B[0m\n",
      "\u001B[0;32m~/Developer/python3.8-venv/lib/python3.8/site-packages/cv2/__init__.py\u001B[0m in \u001B[0;36m<module>\u001B[0;34m\u001B[0m\n\u001B[1;32m      3\u001B[0m \u001B[0;32mimport\u001B[0m \u001B[0msys\u001B[0m\u001B[0;34m\u001B[0m\u001B[0;34m\u001B[0m\u001B[0m\n\u001B[1;32m      4\u001B[0m \u001B[0;34m\u001B[0m\u001B[0m\n\u001B[0;32m----> 5\u001B[0;31m \u001B[0;32mfrom\u001B[0m \u001B[0;34m.\u001B[0m\u001B[0mcv2\u001B[0m \u001B[0;32mimport\u001B[0m \u001B[0;34m*\u001B[0m\u001B[0;34m\u001B[0m\u001B[0;34m\u001B[0m\u001B[0m\n\u001B[0m\u001B[1;32m      6\u001B[0m \u001B[0;32mfrom\u001B[0m \u001B[0;34m.\u001B[0m\u001B[0mdata\u001B[0m \u001B[0;32mimport\u001B[0m \u001B[0;34m*\u001B[0m\u001B[0;34m\u001B[0m\u001B[0;34m\u001B[0m\u001B[0m\n\u001B[1;32m      7\u001B[0m \u001B[0;34m\u001B[0m\u001B[0m\n",
      "\u001B[0;31mImportError\u001B[0m: dlopen(/Users/muhammadafkar/Developer/python3.8-venv/lib/python3.8/site-packages/cv2/cv2.cpython-38-darwin.so, 2): Library not loaded: /opt/homebrew/opt/ffmpeg/lib/libavcodec.58.dylib\n  Referenced from: /Users/muhammadafkar/Developer/python3.8-venv/lib/python3.8/site-packages/cv2/cv2.cpython-38-darwin.so\n  Reason: image not found"
     ]
    }
   ],
   "source": [
    "from tensorflow.keras.layers import Conv2D, DepthwiseConv2D, BatchNormalization,\\\n",
    "    ReLU, Flatten, Dense, AvgPool2D, Input\n",
    "from tensorflow.keras.models import Model, Sequential\n",
    "\n",
    "import os\n",
    "import cv2"
   ]
  },
  {
   "cell_type": "code",
   "execution_count": null,
   "outputs": [],
   "source": [
    "def input():\n",
    "    pass"
   ],
   "metadata": {
    "collapsed": false,
    "pycharm": {
     "name": "#%%\n"
    }
   }
  },
  {
   "cell_type": "code",
   "execution_count": 12,
   "outputs": [],
   "source": [
    "def conv(x, filters, kernel_size=1, point_strides=(1, 1)):\n",
    "    x = Conv2D(filters=filters, kernel_size=kernel_size,\n",
    "               strides=point_strides ,use_bias=False)(x)\n",
    "    x = BatchNormalization()(x)\n",
    "    x = ReLU()(x)\n",
    "    return x"
   ],
   "metadata": {
    "collapsed": false,
    "pycharm": {
     "name": "#%%\n"
    }
   }
  },
  {
   "cell_type": "code",
   "execution_count": 13,
   "outputs": [],
   "source": [
    "def conv_dw(x, strides, kernel_size=3):\n",
    "    x = DepthwiseConv2D(kernel_size=kernel_size, strides=strides,\n",
    "                        padding='same', use_bias=False)(x)\n",
    "    x = BatchNormalization()(x)\n",
    "    x = ReLU()(x)\n",
    "    return x"
   ],
   "metadata": {
    "collapsed": false,
    "pycharm": {
     "name": "#%%\n"
    }
   }
  },
  {
   "cell_type": "code",
   "execution_count": 14,
   "outputs": [],
   "source": [
    "def double_conv(x, strides, filters):\n",
    "    x = conv_dw(x, strides=strides)\n",
    "    x = conv(x, filters=filters)\n",
    "    return x"
   ],
   "metadata": {
    "collapsed": false,
    "pycharm": {
     "name": "#%%\n"
    }
   }
  },
  {
   "cell_type": "code",
   "execution_count": 15,
   "outputs": [
    {
     "name": "stdout",
     "output_type": "stream",
     "text": [
      "Model: \"model\"\n",
      "_________________________________________________________________\n",
      "Layer (type)                 Output Shape              Param #   \n",
      "=================================================================\n",
      "input_2 (InputLayer)         [(None, 224, 224, 3)]     0         \n",
      "_________________________________________________________________\n",
      "conv2d_14 (Conv2D)           (None, 111, 111, 32)      864       \n",
      "_________________________________________________________________\n",
      "batch_normalization_27 (Batc (None, 111, 111, 32)      128       \n",
      "_________________________________________________________________\n",
      "re_lu_27 (ReLU)              (None, 111, 111, 32)      0         \n",
      "_________________________________________________________________\n",
      "depthwise_conv2d_13 (Depthwi (None, 111, 111, 32)      288       \n",
      "_________________________________________________________________\n",
      "batch_normalization_28 (Batc (None, 111, 111, 32)      128       \n",
      "_________________________________________________________________\n",
      "re_lu_28 (ReLU)              (None, 111, 111, 32)      0         \n",
      "_________________________________________________________________\n",
      "conv2d_15 (Conv2D)           (None, 111, 111, 64)      2048      \n",
      "_________________________________________________________________\n",
      "batch_normalization_29 (Batc (None, 111, 111, 64)      256       \n",
      "_________________________________________________________________\n",
      "re_lu_29 (ReLU)              (None, 111, 111, 64)      0         \n",
      "_________________________________________________________________\n",
      "depthwise_conv2d_14 (Depthwi (None, 56, 56, 64)        576       \n",
      "_________________________________________________________________\n",
      "batch_normalization_30 (Batc (None, 56, 56, 64)        256       \n",
      "_________________________________________________________________\n",
      "re_lu_30 (ReLU)              (None, 56, 56, 64)        0         \n",
      "_________________________________________________________________\n",
      "conv2d_16 (Conv2D)           (None, 56, 56, 128)       8192      \n",
      "_________________________________________________________________\n",
      "batch_normalization_31 (Batc (None, 56, 56, 128)       512       \n",
      "_________________________________________________________________\n",
      "re_lu_31 (ReLU)              (None, 56, 56, 128)       0         \n",
      "_________________________________________________________________\n",
      "depthwise_conv2d_15 (Depthwi (None, 56, 56, 128)       1152      \n",
      "_________________________________________________________________\n",
      "batch_normalization_32 (Batc (None, 56, 56, 128)       512       \n",
      "_________________________________________________________________\n",
      "re_lu_32 (ReLU)              (None, 56, 56, 128)       0         \n",
      "_________________________________________________________________\n",
      "conv2d_17 (Conv2D)           (None, 56, 56, 128)       16384     \n",
      "_________________________________________________________________\n",
      "batch_normalization_33 (Batc (None, 56, 56, 128)       512       \n",
      "_________________________________________________________________\n",
      "re_lu_33 (ReLU)              (None, 56, 56, 128)       0         \n",
      "_________________________________________________________________\n",
      "depthwise_conv2d_16 (Depthwi (None, 28, 28, 128)       1152      \n",
      "_________________________________________________________________\n",
      "batch_normalization_34 (Batc (None, 28, 28, 128)       512       \n",
      "_________________________________________________________________\n",
      "re_lu_34 (ReLU)              (None, 28, 28, 128)       0         \n",
      "_________________________________________________________________\n",
      "conv2d_18 (Conv2D)           (None, 28, 28, 256)       32768     \n",
      "_________________________________________________________________\n",
      "batch_normalization_35 (Batc (None, 28, 28, 256)       1024      \n",
      "_________________________________________________________________\n",
      "re_lu_35 (ReLU)              (None, 28, 28, 256)       0         \n",
      "_________________________________________________________________\n",
      "depthwise_conv2d_17 (Depthwi (None, 28, 28, 256)       2304      \n",
      "_________________________________________________________________\n",
      "batch_normalization_36 (Batc (None, 28, 28, 256)       1024      \n",
      "_________________________________________________________________\n",
      "re_lu_36 (ReLU)              (None, 28, 28, 256)       0         \n",
      "_________________________________________________________________\n",
      "conv2d_19 (Conv2D)           (None, 28, 28, 256)       65536     \n",
      "_________________________________________________________________\n",
      "batch_normalization_37 (Batc (None, 28, 28, 256)       1024      \n",
      "_________________________________________________________________\n",
      "re_lu_37 (ReLU)              (None, 28, 28, 256)       0         \n",
      "_________________________________________________________________\n",
      "depthwise_conv2d_18 (Depthwi (None, 14, 14, 256)       2304      \n",
      "_________________________________________________________________\n",
      "batch_normalization_38 (Batc (None, 14, 14, 256)       1024      \n",
      "_________________________________________________________________\n",
      "re_lu_38 (ReLU)              (None, 14, 14, 256)       0         \n",
      "_________________________________________________________________\n",
      "conv2d_20 (Conv2D)           (None, 14, 14, 512)       131072    \n",
      "_________________________________________________________________\n",
      "batch_normalization_39 (Batc (None, 14, 14, 512)       2048      \n",
      "_________________________________________________________________\n",
      "re_lu_39 (ReLU)              (None, 14, 14, 512)       0         \n",
      "_________________________________________________________________\n",
      "depthwise_conv2d_19 (Depthwi (None, 14, 14, 512)       4608      \n",
      "_________________________________________________________________\n",
      "batch_normalization_40 (Batc (None, 14, 14, 512)       2048      \n",
      "_________________________________________________________________\n",
      "re_lu_40 (ReLU)              (None, 14, 14, 512)       0         \n",
      "_________________________________________________________________\n",
      "conv2d_21 (Conv2D)           (None, 14, 14, 512)       262144    \n",
      "_________________________________________________________________\n",
      "batch_normalization_41 (Batc (None, 14, 14, 512)       2048      \n",
      "_________________________________________________________________\n",
      "re_lu_41 (ReLU)              (None, 14, 14, 512)       0         \n",
      "_________________________________________________________________\n",
      "depthwise_conv2d_20 (Depthwi (None, 14, 14, 512)       4608      \n",
      "_________________________________________________________________\n",
      "batch_normalization_42 (Batc (None, 14, 14, 512)       2048      \n",
      "_________________________________________________________________\n",
      "re_lu_42 (ReLU)              (None, 14, 14, 512)       0         \n",
      "_________________________________________________________________\n",
      "conv2d_22 (Conv2D)           (None, 14, 14, 512)       262144    \n",
      "_________________________________________________________________\n",
      "batch_normalization_43 (Batc (None, 14, 14, 512)       2048      \n",
      "_________________________________________________________________\n",
      "re_lu_43 (ReLU)              (None, 14, 14, 512)       0         \n",
      "_________________________________________________________________\n",
      "depthwise_conv2d_21 (Depthwi (None, 14, 14, 512)       4608      \n",
      "_________________________________________________________________\n",
      "batch_normalization_44 (Batc (None, 14, 14, 512)       2048      \n",
      "_________________________________________________________________\n",
      "re_lu_44 (ReLU)              (None, 14, 14, 512)       0         \n",
      "_________________________________________________________________\n",
      "conv2d_23 (Conv2D)           (None, 14, 14, 512)       262144    \n",
      "_________________________________________________________________\n",
      "batch_normalization_45 (Batc (None, 14, 14, 512)       2048      \n",
      "_________________________________________________________________\n",
      "re_lu_45 (ReLU)              (None, 14, 14, 512)       0         \n",
      "_________________________________________________________________\n",
      "depthwise_conv2d_22 (Depthwi (None, 14, 14, 512)       4608      \n",
      "_________________________________________________________________\n",
      "batch_normalization_46 (Batc (None, 14, 14, 512)       2048      \n",
      "_________________________________________________________________\n",
      "re_lu_46 (ReLU)              (None, 14, 14, 512)       0         \n",
      "_________________________________________________________________\n",
      "conv2d_24 (Conv2D)           (None, 14, 14, 512)       262144    \n",
      "_________________________________________________________________\n",
      "batch_normalization_47 (Batc (None, 14, 14, 512)       2048      \n",
      "_________________________________________________________________\n",
      "re_lu_47 (ReLU)              (None, 14, 14, 512)       0         \n",
      "_________________________________________________________________\n",
      "depthwise_conv2d_23 (Depthwi (None, 14, 14, 512)       4608      \n",
      "_________________________________________________________________\n",
      "batch_normalization_48 (Batc (None, 14, 14, 512)       2048      \n",
      "_________________________________________________________________\n",
      "re_lu_48 (ReLU)              (None, 14, 14, 512)       0         \n",
      "_________________________________________________________________\n",
      "conv2d_25 (Conv2D)           (None, 14, 14, 512)       262144    \n",
      "_________________________________________________________________\n",
      "batch_normalization_49 (Batc (None, 14, 14, 512)       2048      \n",
      "_________________________________________________________________\n",
      "re_lu_49 (ReLU)              (None, 14, 14, 512)       0         \n",
      "_________________________________________________________________\n",
      "depthwise_conv2d_24 (Depthwi (None, 7, 7, 512)         4608      \n",
      "_________________________________________________________________\n",
      "batch_normalization_50 (Batc (None, 7, 7, 512)         2048      \n",
      "_________________________________________________________________\n",
      "re_lu_50 (ReLU)              (None, 7, 7, 512)         0         \n",
      "_________________________________________________________________\n",
      "conv2d_26 (Conv2D)           (None, 7, 7, 1024)        524288    \n",
      "_________________________________________________________________\n",
      "batch_normalization_51 (Batc (None, 7, 7, 1024)        4096      \n",
      "_________________________________________________________________\n",
      "re_lu_51 (ReLU)              (None, 7, 7, 1024)        0         \n",
      "_________________________________________________________________\n",
      "depthwise_conv2d_25 (Depthwi (None, 7, 7, 1024)        9216      \n",
      "_________________________________________________________________\n",
      "batch_normalization_52 (Batc (None, 7, 7, 1024)        4096      \n",
      "_________________________________________________________________\n",
      "re_lu_52 (ReLU)              (None, 7, 7, 1024)        0         \n",
      "_________________________________________________________________\n",
      "conv2d_27 (Conv2D)           (None, 7, 7, 1024)        1048576   \n",
      "_________________________________________________________________\n",
      "batch_normalization_53 (Batc (None, 7, 7, 1024)        4096      \n",
      "_________________________________________________________________\n",
      "re_lu_53 (ReLU)              (None, 7, 7, 1024)        0         \n",
      "_________________________________________________________________\n",
      "average_pooling2d_1 (Average (None, 7, 1, 1018)        0         \n",
      "_________________________________________________________________\n",
      "dense (Dense)                (None, 7, 1, 1000)        1019000   \n",
      "=================================================================\n",
      "Total params: 4,247,864\n",
      "Trainable params: 4,225,976\n",
      "Non-trainable params: 21,888\n",
      "_________________________________________________________________\n"
     ]
    }
   ],
   "source": [
    "input_shape=(224,224,3)\n",
    "input = Input(input_shape)\n",
    "#\n",
    "x = conv(input, filters=32, kernel_size=3, point_strides=(2,2))\n",
    "#\n",
    "x = double_conv(x, strides=1, filters=64)\n",
    "#\n",
    "x = double_conv(x, strides=2, filters=128)\n",
    "#\n",
    "x = double_conv(x, strides=1, filters=128)\n",
    "#\n",
    "x = double_conv(x, strides=2, filters=256)\n",
    "#\n",
    "x = double_conv(x, strides=1, filters=256)\n",
    "#\n",
    "x = double_conv(x, strides=2, filters=512)\n",
    "\n",
    "for _ in range(5):\n",
    "    x = double_conv(x, strides=(1, 1), filters=512)\n",
    "\n",
    "x = double_conv(x, strides=2, filters=1024)\n",
    "x = double_conv(x, strides=1, filters=1024)\n",
    "\n",
    "x = AvgPool2D(pool_size=7, strides=(1,1), data_format='channels_first')(x)\n",
    "\n",
    "output = Dense (units = 1000, activation = 'softmax')(x)\n",
    "\n",
    "model = Model(inputs=input, outputs=output)\n",
    "model.summary()"
   ],
   "metadata": {
    "collapsed": false,
    "pycharm": {
     "name": "#%%\n"
    }
   }
  }
 ],
 "metadata": {
  "kernelspec": {
   "display_name": "Python 3",
   "language": "python",
   "name": "python3"
  },
  "language_info": {
   "codemirror_mode": {
    "name": "ipython",
    "version": 2
   },
   "file_extension": ".py",
   "mimetype": "text/x-python",
   "name": "python",
   "nbconvert_exporter": "python",
   "pygments_lexer": "ipython2",
   "version": "2.7.6"
  }
 },
 "nbformat": 4,
 "nbformat_minor": 0
}